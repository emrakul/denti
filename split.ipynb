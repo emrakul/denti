{
 "cells": [
  {
   "cell_type": "code",
   "execution_count": 48,
   "metadata": {},
   "outputs": [
    {
     "name": "stdout",
     "output_type": "stream",
     "text": [
      "Collecting torchaudio\n",
      "  Downloading torchaudio-0.13.0-cp310-cp310-manylinux1_x86_64.whl (4.2 MB)\n",
      "\u001b[2K     \u001b[90m━━━━━━━━━━━━━━━━━━━━━━━━━━━━━━━━━━━━━━━━\u001b[0m \u001b[32m4.2/4.2 MB\u001b[0m \u001b[31m5.6 MB/s\u001b[0m eta \u001b[36m0:00:00\u001b[0m00:01\u001b[0m00:01\u001b[0m\n",
      "\u001b[?25hRequirement already satisfied: torch==1.13.0 in /home/nikita/venv/lib/python3.10/site-packages (from torchaudio) (1.13.0)\n",
      "Requirement already satisfied: nvidia-cuda-nvrtc-cu11==11.7.99 in /home/nikita/venv/lib/python3.10/site-packages (from torch==1.13.0->torchaudio) (11.7.99)\n",
      "Requirement already satisfied: nvidia-cudnn-cu11==8.5.0.96 in /home/nikita/venv/lib/python3.10/site-packages (from torch==1.13.0->torchaudio) (8.5.0.96)\n",
      "Requirement already satisfied: nvidia-cuda-runtime-cu11==11.7.99 in /home/nikita/venv/lib/python3.10/site-packages (from torch==1.13.0->torchaudio) (11.7.99)\n",
      "Requirement already satisfied: nvidia-cublas-cu11==11.10.3.66 in /home/nikita/venv/lib/python3.10/site-packages (from torch==1.13.0->torchaudio) (11.10.3.66)\n",
      "Requirement already satisfied: typing-extensions in /home/nikita/venv/lib/python3.10/site-packages (from torch==1.13.0->torchaudio) (4.4.0)\n",
      "Requirement already satisfied: wheel in /home/nikita/venv/lib/python3.10/site-packages (from nvidia-cublas-cu11==11.10.3.66->torch==1.13.0->torchaudio) (0.37.1)\n",
      "Requirement already satisfied: setuptools in /home/nikita/venv/lib/python3.10/site-packages (from nvidia-cublas-cu11==11.10.3.66->torch==1.13.0->torchaudio) (59.5.0)\n",
      "Installing collected packages: torchaudio\n",
      "Successfully installed torchaudio-0.13.0\n",
      "\n",
      "\u001b[1m[\u001b[0m\u001b[34;49mnotice\u001b[0m\u001b[1;39;49m]\u001b[0m\u001b[39;49m A new release of pip available: \u001b[0m\u001b[31;49m22.2.2\u001b[0m\u001b[39;49m -> \u001b[0m\u001b[32;49m22.3.1\u001b[0m\n",
      "\u001b[1m[\u001b[0m\u001b[34;49mnotice\u001b[0m\u001b[1;39;49m]\u001b[0m\u001b[39;49m To update, run: \u001b[0m\u001b[32;49mpip install --upgrade pip\u001b[0m\n"
     ]
    }
   ],
   "source": [
    "!pip install torchaudio"
   ]
  },
  {
   "cell_type": "code",
   "execution_count": 2,
   "metadata": {},
   "outputs": [
    {
     "name": "stderr",
     "output_type": "stream",
     "text": [
      "[NeMo W 2022-12-16 17:23:10 optimizers:55] Apex was not found. Using the lamb or fused_adam optimizer will error out.\n",
      "[NeMo W 2022-12-16 17:23:11 experimental:27] Module <class 'nemo_text_processing.g2p.modules.IPAG2P'> is experimental, not ready for production and is not fully supported. Use at your own risk.\n",
      "[NeMo W 2022-12-16 17:23:11 experimental:27] Module <class 'nemo.collections.common.tokenizers.text_to_speech.tts_tokenizers.IPATokenizer'> is experimental, not ready for production and is not fully supported. Use at your own risk.\n",
      "[NeMo W 2022-12-16 17:23:11 experimental:27] Module <class 'nemo.collections.tts.models.radtts.RadTTSModel'> is experimental, not ready for production and is not fully supported. Use at your own risk.\n"
     ]
    }
   ],
   "source": [
    "import pydub\n",
    "import librosa\n",
    "import soundfile\n",
    "import nemo.collections.asr as nemo_asr\n",
    "import glob\n",
    "import nemo.collections.tts as nemo_tts\n",
    "import numpy as np\n",
    "import torch\n",
    "import shutil\n",
    "import pyctcdecode\n",
    "from word_beam_search import WordBeamSearch\n",
    "from ctcdecode import CTCBeamDecoder\n",
    "import itertools\n",
    "import symspellpy\n",
    "import matplotlib.pyplot as plt\n",
    "from dataclasses import dataclass\n",
    "import torchaudio\n",
    "from forced_alignment import get_trellis, backtrack, plot_trellis_with_path, merge_repeats, plot_trellis_with_segments, merge_words\n",
    "from IPython.display import Audio\n",
    "import os"
   ]
  },
  {
   "cell_type": "code",
   "execution_count": 23,
   "metadata": {},
   "outputs": [
    {
     "name": "stdout",
     "output_type": "stream",
     "text": [
      "[youtube] h3HaNUXlzQc: Downloading webpage\n",
      "[download] Destination: Light vs. Medium vs. Dark Roasts Coffee _ What’s the difference-h3HaNUXlzQc.m4a\n",
      "\u001b[K[download] 100% of 8.10MiB in 02:1349KiB/s ETA 00:000\n",
      "[ffmpeg] Correcting container in \"Light vs. Medium vs. Dark Roasts Coffee _ What’s the difference-h3HaNUXlzQc.m4a\"\n"
     ]
    }
   ],
   "source": [
    "!youtube-dl -f 140 https://www.youtube.com/watch\\?v=h3HaNUXlzQc"
   ]
  },
  {
   "cell_type": "code",
   "execution_count": 24,
   "metadata": {},
   "outputs": [
    {
     "name": "stdout",
     "output_type": "stream",
     "text": [
      "ffmpeg version n5.1.2 Copyright (c) 2000-2022 the FFmpeg developers\n",
      "  built with gcc 12.2.0 (GCC)\n",
      "  configuration: --prefix=/usr --disable-debug --disable-static --disable-stripping --enable-amf --enable-avisynth --enable-cuda-llvm --enable-lto --enable-fontconfig --enable-gmp --enable-gnutls --enable-gpl --enable-ladspa --enable-libaom --enable-libass --enable-libbluray --enable-libbs2b --enable-libdav1d --enable-libdrm --enable-libfreetype --enable-libfribidi --enable-libgsm --enable-libiec61883 --enable-libjack --enable-libmfx --enable-libmodplug --enable-libmp3lame --enable-libopencore_amrnb --enable-libopencore_amrwb --enable-libopenjpeg --enable-libopus --enable-libpulse --enable-librav1e --enable-librsvg --enable-libsoxr --enable-libspeex --enable-libsrt --enable-libssh --enable-libsvtav1 --enable-libtheora --enable-libv4l2 --enable-libvidstab --enable-libvmaf --enable-libvorbis --enable-libvpx --enable-libwebp --enable-libx264 --enable-libx265 --enable-libxcb --enable-libxml2 --enable-libxvid --enable-libzimg --enable-nvdec --enable-nvenc --enable-opencl --enable-opengl --enable-shared --enable-version3 --enable-vulkan\n",
      "  libavutil      57. 28.100 / 57. 28.100\n",
      "  libavcodec     59. 37.100 / 59. 37.100\n",
      "  libavformat    59. 27.100 / 59. 27.100\n",
      "  libavdevice    59.  7.100 / 59.  7.100\n",
      "  libavfilter     8. 44.100 /  8. 44.100\n",
      "  libswscale      6.  7.100 /  6.  7.100\n",
      "  libswresample   4.  7.100 /  4.  7.100\n",
      "  libpostproc    56.  6.100 / 56.  6.100\n",
      "Input #0, mov,mp4,m4a,3gp,3g2,mj2, from 'Light vs. Medium vs. Dark Roasts Coffee _ What’s the difference-h3HaNUXlzQc.m4a':\n",
      "  Metadata:\n",
      "    major_brand     : isom\n",
      "    minor_version   : 512\n",
      "    compatible_brands: isomiso2mp41\n",
      "    encoder         : Lavf59.27.100\n",
      "  Duration: 00:08:44.86, start: 0.000000, bitrate: 129 kb/s\n",
      "  Stream #0:0[0x1](eng): Audio: aac (LC) (mp4a / 0x6134706D), 44100 Hz, stereo, fltp, 127 kb/s (default)\n",
      "    Metadata:\n",
      "      handler_name    : ISO Media file produced by Google Inc.\n",
      "      vendor_id       : [0][0][0][0]\n",
      "Stream mapping:\n",
      "  Stream #0:0 -> #0:0 (aac (native) -> pcm_s16le (native))\n",
      "Press [q] to stop, [?] for help\n",
      "Output #0, wav, to 'audioclips/h3HaNUXlzQc.wav':\n",
      "  Metadata:\n",
      "    major_brand     : isom\n",
      "    minor_version   : 512\n",
      "    compatible_brands: isomiso2mp41\n",
      "    ISFT            : Lavf59.27.100\n",
      "  Stream #0:0(eng): Audio: pcm_s16le ([1][0][0][0] / 0x0001), 16000 Hz, mono, s16, 256 kb/s (default)\n",
      "    Metadata:\n",
      "      handler_name    : ISO Media file produced by Google Inc.\n",
      "      vendor_id       : [0][0][0][0]\n",
      "      encoder         : Lavc59.37.100 pcm_s16le\n",
      "size=   16402kB time=00:08:44.86 bitrate= 256.0kbits/s speed=1.12e+03x    \n",
      "video:0kB audio:16402kB subtitle:0kB other streams:0kB global headers:0kB muxing overhead: 0.000464%\n"
     ]
    }
   ],
   "source": [
    "!ffmpeg -y -i *h3HaNUXlzQc.m4a -vn  -ac 1 -ar 16000  audioclips/h3HaNUXlzQc.wav\n",
    "#!rm *uiDzZZoWkOI.mkv"
   ]
  },
  {
   "cell_type": "code",
   "execution_count": 25,
   "metadata": {},
   "outputs": [],
   "source": [
    "bundle = torchaudio.pipelines.WAV2VEC2_ASR_BASE_960H\n",
    "model = bundle.get_model().to('cpu')\n",
    "labels = bundle.get_labels()"
   ]
  },
  {
   "cell_type": "code",
   "execution_count": 26,
   "metadata": {},
   "outputs": [],
   "source": [
    "sm = symspellpy.SymSpell(max_dictionary_edit_distance=3)\n",
    "grammar_words = ['gingival', 'light',  'medium', 'mesial', 'lingual', 'distal', 'bleeding', 'furcation', 'plaque', 'margin', 'severe']\n",
    "\n",
    "for w in grammar_words:\n",
    "    sm.create_dictionary_entry(w, 1)"
   ]
  },
  {
   "cell_type": "code",
   "execution_count": 27,
   "metadata": {},
   "outputs": [
    {
     "name": "stdout",
     "output_type": "stream",
     "text": [
      "h3HaNUXlzQc\n"
     ]
    }
   ],
   "source": [
    "for audio_file in glob.glob(\"./audioclips/h3HaNUXlzQc.wav\"):\n",
    "    seg = pydub.AudioSegment.from_file(audio_file)\n",
    "    filename = audio_file.split('/')[-1].split('.')[0]\n",
    "    print(filename)\n",
    "    segs = pydub.silence.split_on_silence(seg, min_silence_len=1000, silence_thresh=-40)\n",
    "    try:\n",
    "        os.mkdir(\"./tmp/\")\n",
    "    except: \n",
    "        print(\"exists\")\n",
    "        pass\n",
    "    for i, seg in enumerate(segs):\n",
    "        pydub.AudioSegment.export(seg, f\"tmp/{i}.wav\", format='wav')\n",
    "\n",
    "    for f in glob.glob('tmp/*.wav')[1:]:\n",
    "        y, _ = librosa.load(f, sr=16_000)\n",
    "        if len(y) > 16_000*45: #Too long to fit in RAM\n",
    "            continue\n",
    "        emissions, _ = model(torch.Tensor([y]))\n",
    "        transcript = [labels[i] for i in np.argmax(emissions[0].detach().numpy(), axis=1)]\n",
    "        transcript = [k for (k, g) in itertools.groupby(transcript)]\n",
    "        transcript = ''.join(transcript).replace('-','')\n",
    "        tmp = [sm.lookup_compound(w, 1)[0].term.upper() if len(sm.lookup(w.lower(), 1)) else w for w in transcript.split('|')]\n",
    "        transcript = \"|\".join(tmp)\n",
    "        if len(transcript.split('|')) <= 1:\n",
    "            continue\n",
    "        dictionary = {c: i for i, c in enumerate(labels)}\n",
    "        tokens = [dictionary[c] for c in transcript]\n",
    "        trellis = get_trellis(emissions[0], tokens)\n",
    "        path = backtrack(trellis, emissions[0], tokens)\n",
    "        segments = merge_repeats(path, transcript)\n",
    "        word_segments = merge_words(segments)\n",
    "        for word in word_segments:\n",
    "            for grammar_word in grammar_words:\n",
    "                if word.label == grammar_word.upper():\n",
    "                    #print(word)\n",
    "                    try:\n",
    "                        os.mkdir(f\"./train_samples/{grammar_word}\")\n",
    "                    except: \n",
    "                        pass\n",
    "                        #print(\"exists\")\n",
    "                    i = len(glob.glob(f'./train_samples/{grammar_word}/{filename}_*'))\n",
    "                    l = len(y)\n",
    "                    start = word.start/emissions.shape[1]\n",
    "                    end = word.end/emissions.shape[1]\n",
    "                    st = int(start*l)\n",
    "                    end =int(end*l)\n",
    "                    soundfile.write(f\"./train_samples/{grammar_word}/{filename}_{i}.wav\", y[st:end], samplerate=16_000)\n",
    "    shutil.rmtree('./tmp')"
   ]
  },
  {
   "cell_type": "code",
   "execution_count": null,
   "metadata": {},
   "outputs": [],
   "source": []
  }
 ],
 "metadata": {
  "kernelspec": {
   "display_name": "Python 3.10.8 ('venv')",
   "language": "python",
   "name": "python3"
  },
  "language_info": {
   "codemirror_mode": {
    "name": "ipython",
    "version": 3
   },
   "file_extension": ".py",
   "mimetype": "text/x-python",
   "name": "python",
   "nbconvert_exporter": "python",
   "pygments_lexer": "ipython3",
   "version": "3.10.8"
  },
  "orig_nbformat": 4,
  "vscode": {
   "interpreter": {
    "hash": "7fd949f43caac0f2068892c27c1c66340460cb38bf9d2b065a617b577a92922b"
   }
  }
 },
 "nbformat": 4,
 "nbformat_minor": 2
}
