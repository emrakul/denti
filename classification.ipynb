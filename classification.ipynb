{
 "cells": [
  {
   "cell_type": "code",
   "execution_count": 73,
   "metadata": {},
   "outputs": [],
   "source": [
    "import nemo.collections.asr as nemo_asr\n",
    "import glob\n",
    "import librosa\n",
    "import soundfile\n",
    "import pydub\n",
    "import torch\n",
    "import matplotlib.pyplot as plt\n",
    "from sklearn import svm\n",
    "from sklearn import model_selection\n",
    "from sklearn import metrics\n",
    "\n",
    "import pandas as pd\n",
    "import numpy as np\n",
    "import pickle"
   ]
  },
  {
   "cell_type": "markdown",
   "metadata": {},
   "source": [
    "Initialize MarbleNet"
   ]
  },
  {
   "cell_type": "code",
   "execution_count": 32,
   "metadata": {},
   "outputs": [
    {
     "name": "stdout",
     "output_type": "stream",
     "text": [
      "[NeMo I 2022-12-16 16:13:09 cloud:56] Found existing object /home/nikita/.cache/torch/NeMo/NeMo_1.13.0/commandrecognition_en_matchboxnet3x2x64_v2/8d5735c9c20648d313720dd95300978d/commandrecognition_en_matchboxnet3x2x64_v2.nemo.\n",
      "[NeMo I 2022-12-16 16:13:09 cloud:62] Re-using file from: /home/nikita/.cache/torch/NeMo/NeMo_1.13.0/commandrecognition_en_matchboxnet3x2x64_v2/8d5735c9c20648d313720dd95300978d/commandrecognition_en_matchboxnet3x2x64_v2.nemo\n",
      "[NeMo I 2022-12-16 16:13:09 common:911] Instantiating model from pre-trained checkpoint\n"
     ]
    },
    {
     "name": "stderr",
     "output_type": "stream",
     "text": [
      "[NeMo W 2022-12-16 16:13:09 modelPT:142] If you intend to do training or fine-tuning, please call the ModelPT.setup_training_data() method and provide a valid configuration file to setup the train data loader.\n",
      "    Train config : \n",
      "    manifest_filepath: null\n",
      "    sample_rate: 16000\n",
      "    labels:\n",
      "    - visual\n",
      "    - wow\n",
      "    - learn\n",
      "    - backward\n",
      "    - dog\n",
      "    - two\n",
      "    - left\n",
      "    - happy\n",
      "    - nine\n",
      "    - go\n",
      "    - up\n",
      "    - bed\n",
      "    - stop\n",
      "    - one\n",
      "    - zero\n",
      "    - tree\n",
      "    - seven\n",
      "    - 'on'\n",
      "    - four\n",
      "    - bird\n",
      "    - right\n",
      "    - eight\n",
      "    - 'no'\n",
      "    - six\n",
      "    - forward\n",
      "    - house\n",
      "    - marvin\n",
      "    - sheila\n",
      "    - five\n",
      "    - 'off'\n",
      "    - three\n",
      "    - down\n",
      "    - cat\n",
      "    - follow\n",
      "    - 'yes'\n",
      "    batch_size: 128\n",
      "    shuffle: true\n",
      "    is_tarred: false\n",
      "    tarred_audio_filepaths: null\n",
      "    tarred_shard_strategy: scatter\n",
      "    augmentor:\n",
      "      shift:\n",
      "        prob: 1.0\n",
      "        min_shift_ms: -5.0\n",
      "        max_shift_ms: 5.0\n",
      "      white_noise:\n",
      "        prob: 1.0\n",
      "        min_level: -90\n",
      "        max_level: -46\n",
      "    \n",
      "[NeMo W 2022-12-16 16:13:09 modelPT:149] If you intend to do validation, please call the ModelPT.setup_validation_data() or ModelPT.setup_multiple_validation_data() method and provide a valid configuration file to setup the validation data loader(s). \n",
      "    Validation config : \n",
      "    manifest_filepath: null\n",
      "    sample_rate: 16000\n",
      "    labels:\n",
      "    - visual\n",
      "    - wow\n",
      "    - learn\n",
      "    - backward\n",
      "    - dog\n",
      "    - two\n",
      "    - left\n",
      "    - happy\n",
      "    - nine\n",
      "    - go\n",
      "    - up\n",
      "    - bed\n",
      "    - stop\n",
      "    - one\n",
      "    - zero\n",
      "    - tree\n",
      "    - seven\n",
      "    - 'on'\n",
      "    - four\n",
      "    - bird\n",
      "    - right\n",
      "    - eight\n",
      "    - 'no'\n",
      "    - six\n",
      "    - forward\n",
      "    - house\n",
      "    - marvin\n",
      "    - sheila\n",
      "    - five\n",
      "    - 'off'\n",
      "    - three\n",
      "    - down\n",
      "    - cat\n",
      "    - follow\n",
      "    - 'yes'\n",
      "    batch_size: 128\n",
      "    shuffle: false\n",
      "    val_loss_idx: 0\n",
      "    \n",
      "[NeMo W 2022-12-16 16:13:09 modelPT:155] Please call the ModelPT.setup_test_data() or ModelPT.setup_multiple_test_data() method and provide a valid configuration file to setup the test data loader(s).\n",
      "    Test config : \n",
      "    manifest_filepath:\n",
      "    - /home/smajumdar/PycharmProjects/nemo-eval/nemo_eval/speech_commands/v2_validation_manifest.json\n",
      "    - /home/smajumdar/PycharmProjects/nemo-eval/nemo_eval/speech_commands/v2_test_manifest.json\n",
      "    sample_rate: 16000\n",
      "    labels:\n",
      "    - visual\n",
      "    - wow\n",
      "    - learn\n",
      "    - backward\n",
      "    - dog\n",
      "    - two\n",
      "    - left\n",
      "    - happy\n",
      "    - nine\n",
      "    - go\n",
      "    - up\n",
      "    - bed\n",
      "    - stop\n",
      "    - one\n",
      "    - zero\n",
      "    - tree\n",
      "    - seven\n",
      "    - 'on'\n",
      "    - four\n",
      "    - bird\n",
      "    - right\n",
      "    - eight\n",
      "    - 'no'\n",
      "    - six\n",
      "    - forward\n",
      "    - house\n",
      "    - marvin\n",
      "    - sheila\n",
      "    - five\n",
      "    - 'off'\n",
      "    - three\n",
      "    - down\n",
      "    - cat\n",
      "    - follow\n",
      "    - 'yes'\n",
      "    batch_size: 128\n",
      "    shuffle: false\n",
      "    test_loss_idx: 0\n",
      "    num_workers: 12\n",
      "    pin_memory: true\n",
      "    \n"
     ]
    },
    {
     "name": "stdout",
     "output_type": "stream",
     "text": [
      "[NeMo I 2022-12-16 16:13:10 save_restore_connector:243] Model EncDecClassificationModel was successfully restored from /home/nikita/.cache/torch/NeMo/NeMo_1.13.0/commandrecognition_en_matchboxnet3x2x64_v2/8d5735c9c20648d313720dd95300978d/commandrecognition_en_matchboxnet3x2x64_v2.nemo.\n"
     ]
    }
   ],
   "source": [
    "classifier = nemo_asr.models.EncDecClassificationModel.from_pretrained(\"commandrecognition_en_matchboxnet3x2x64_v2\").to('cpu').eval()\n",
    "labels = classifier.to_config_dict()['labels_full']"
   ]
  },
  {
   "cell_type": "code",
   "execution_count": 69,
   "metadata": {},
   "outputs": [],
   "source": [
    "filenames=[]\n",
    "records = []\n",
    "embeds = []\n",
    "for f in glob.glob(\"train_samples/*/*.wav\"):\n",
    "    label = f.split('/')[1]\n",
    "    y, _ = librosa.load(f, sr=16_000)\n",
    "    input_signal = torch.FloatTensor([y])\n",
    "    input_signal_length = torch.IntTensor([len(y)])\n",
    "    res = classifier.forward(input_signal=input_signal, input_signal_length=input_signal_length)\n",
    "    filenames.append(f)\n",
    "    records.append(label)\n",
    "    embeds.append(res.detach().numpy()[0])\n",
    "embeds = np.array(embeds)"
   ]
  },
  {
   "cell_type": "code",
   "execution_count": 70,
   "metadata": {},
   "outputs": [],
   "source": [
    "df = pd.DataFrame(filenames, columns=['filepath'])\n",
    "df['label'] = records\n",
    "classes = {v:k for (k,v) in enumerate(np.unique(records))}\n",
    "df['label'] = df['label'].apply(lambda x: classes[x])\n",
    "y = df['label'].values\n",
    "d = pd.DataFrame(np.array(embeds), columns=[f'feat_{i}' for i in range(35)])\n",
    "df = pd.concat([df, d], axis=1)"
   ]
  },
  {
   "cell_type": "code",
   "execution_count": 71,
   "metadata": {},
   "outputs": [],
   "source": [
    "clf = svm.SVC()\n",
    "skf = model_selection.StratifiedKFold(n_splits=5, shuffle=True)"
   ]
  },
  {
   "cell_type": "code",
   "execution_count": 72,
   "metadata": {},
   "outputs": [
    {
     "name": "stdout",
     "output_type": "stream",
     "text": [
      "1.0\n",
      "0.9074074074074073\n",
      "0.8888888888888888\n",
      "0.8888888888888888\n",
      "0.9305555555555556\n"
     ]
    }
   ],
   "source": [
    "for train_index, test_index in skf.split(embeds, y):\n",
    "    clf.fit(embeds[train_index], y[train_index])\n",
    "    y_pred = clf.predict(embeds[test_index])\n",
    "    print(metrics.balanced_accuracy_score(y[test_index], y_pred))"
   ]
  },
  {
   "cell_type": "code",
   "execution_count": 74,
   "metadata": {},
   "outputs": [],
   "source": [
    "pickle.dump(clf, open(\"svm.pkl\", 'wb'))"
   ]
  },
  {
   "cell_type": "code",
   "execution_count": 78,
   "metadata": {},
   "outputs": [
    {
     "data": {
      "text/plain": [
       "<matplotlib.image.AxesImage at 0x7fe04d890d30>"
      ]
     },
     "execution_count": 78,
     "metadata": {},
     "output_type": "execute_result"
    },
    {
     "data": {
      "image/png": "[encoded data removed]",
      "text/plain": [
       "<Figure size 400x1000 with 1 Axes>"
      ]
     },
     "metadata": {},
     "output_type": "display_data"
    }
   ],
   "source": [
    "plt.figure(figsize=(4,10))\n",
    "plt.imshow(embeds)"
   ]
  },
  {
   "cell_type": "code",
   "execution_count": null,
   "metadata": {},
   "outputs": [],
   "source": []
  }
 ],
 "metadata": {
  "kernelspec": {
   "display_name": "Python 3.10.8 ('venv')",
   "language": "python",
   "name": "python3"
  },
  "language_info": {
   "codemirror_mode": {
    "name": "ipython",
    "version": 3
   },
   "file_extension": ".py",
   "mimetype": "text/x-python",
   "name": "python",
   "nbconvert_exporter": "python",
   "pygments_lexer": "ipython3",
   "version": "3.10.8"
  },
  "orig_nbformat": 4,
  "vscode": {
   "interpreter": {
    "hash": "7fd949f43caac0f2068892c27c1c66340460cb38bf9d2b065a617b577a92922b"
   }
  }
 },
 "nbformat": 4,
 "nbformat_minor": 2
}
