{
 "cells": [
  {
   "cell_type": "code",
   "execution_count": 6,
   "metadata": {},
   "outputs": [],
   "source": [
    "import random\n",
    "import itertools\n",
    "import inflect"
   ]
  },
  {
   "cell_type": "code",
   "execution_count": 16,
   "metadata": {},
   "outputs": [
    {
     "name": "stdout",
     "output_type": "stream",
     "text": [
      "distal\n"
     ]
    }
   ],
   "source": [
    "# Advanced location := \"mesial\" | \"distal\" | \"all\"\n",
    "adv_loc = random.choice(['mesial', \"distal\", \"all\"])"
   ]
  },
  {
   "cell_type": "code",
   "execution_count": 11,
   "metadata": {},
   "outputs": [],
   "source": [
    "def number() -> str:\n",
    "    number = random.randint(1,32)\n",
    "    p = inflect.engine()\n",
    "    return p.number_to_words(number).replace('-', ' ')"
   ]
  },
  {
   "cell_type": "code",
   "execution_count": 10,
   "metadata": {},
   "outputs": [],
   "source": [
    "# Location := <Number> | <Number> + <Advanced location> | <Advanced location> | \"gingival margin\"\n",
    "def location() -> str:\n",
    "    loc = random.randint(1, 4)\n",
    "    match loc:\n",
    "        case 1:\n",
    "            #print(\"number\")\n",
    "            return number()\n",
    "        case 2:\n",
    "            #print(\"number + adv-loc\")\n",
    "            adv_loc = random.choice(['mesial', \"distal\", \"all\"])\n",
    "            return f\"{number()} {adv_loc}\"\n",
    "        case 3:\n",
    "            adv_loc = random.choice(['mesial', \"distal\", \"all\"])\n",
    "            return adv_loc\n",
    "        case 4:\n",
    "            return \"gingival margin\"\n"
   ]
  },
  {
   "cell_type": "code",
   "execution_count": 9,
   "metadata": {},
   "outputs": [],
   "source": [
    "def action() -> str:\n",
    "    return \"jump\""
   ]
  },
  {
   "cell_type": "code",
   "execution_count": 12,
   "metadata": {},
   "outputs": [],
   "source": [
    "def condition() -> str:\n",
    "    #Condition:= \"bleeding\" | \"furcation <Location> grade <Number>\" | \"plaque <light|medium|severe>\"\n",
    "    cond = random.randint(1,3)\n",
    "    match cond:\n",
    "        case 1:\n",
    "            return \"bleeding\"\n",
    "        case 2:\n",
    "            return f\"furcation {location()} grade {number()}\"\n",
    "        case 3:\n",
    "            sev = random.choice(['light', 'medium', 'severe'])\n",
    "            return  f\"plaque {sev}\"\n",
    "            "
   ]
  },
  {
   "cell_type": "code",
   "execution_count": 13,
   "metadata": {},
   "outputs": [],
   "source": [
    "def roll() -> str:\n",
    "    dice = random.randint(1,2)\n",
    "    match dice:\n",
    "        case 1:\n",
    "            return f\"{action()} {location()}\"\n",
    "        case 2:\n",
    "            return f\"{condition()} {location()}\""
   ]
  },
  {
   "cell_type": "code",
   "execution_count": 15,
   "metadata": {},
   "outputs": [
    {
     "data": {
      "text/plain": [
       "'jump twenty'"
      ]
     },
     "execution_count": 15,
     "metadata": {},
     "output_type": "execute_result"
    }
   ],
   "source": [
    "roll()"
   ]
  },
  {
   "cell_type": "code",
   "execution_count": null,
   "metadata": {},
   "outputs": [],
   "source": []
  }
 ],
 "metadata": {
  "kernelspec": {
   "display_name": "Python 3.10.8 ('venv')",
   "language": "python",
   "name": "python3"
  },
  "language_info": {
   "codemirror_mode": {
    "name": "ipython",
    "version": 3
   },
   "file_extension": ".py",
   "mimetype": "text/x-python",
   "name": "python",
   "nbconvert_exporter": "python",
   "pygments_lexer": "ipython3",
   "version": "3.10.8"
  },
  "orig_nbformat": 4,
  "vscode": {
   "interpreter": {
    "hash": "7fd949f43caac0f2068892c27c1c66340460cb38bf9d2b065a617b577a92922b"
   }
  }
 },
 "nbformat": 4,
 "nbformat_minor": 2
}
