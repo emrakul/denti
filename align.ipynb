{
 "cells": [
  {
   "cell_type": "code",
   "execution_count": 11,
   "metadata": {},
   "outputs": [
    {
     "name": "stdout",
     "output_type": "stream",
     "text": [
      "Requirement already satisfied: audalign in /home/nikita/.envs/aligner/lib/python3.9/site-packages (1.2.0)\n",
      "Requirement already satisfied: py==1.11.0 in /home/nikita/.envs/aligner/lib/python3.9/site-packages (from audalign) (1.11.0)\n",
      "Requirement already satisfied: cffi==1.15.0 in /home/nikita/.envs/aligner/lib/python3.9/site-packages (from audalign) (1.15.0)\n",
      "Requirement already satisfied: cycler==0.11.0 in /home/nikita/.envs/aligner/lib/python3.9/site-packages (from audalign) (0.11.0)\n",
      "Requirement already satisfied: SoundFile==0.10.3.post1 in /home/nikita/.envs/aligner/lib/python3.9/site-packages (from audalign) (0.10.3.post1)\n",
      "Requirement already satisfied: noisereduce==2.0.0 in /home/nikita/.envs/aligner/lib/python3.9/site-packages (from audalign) (2.0.0)\n",
      "Requirement already satisfied: PyWavelets==1.3.0 in /home/nikita/.envs/aligner/lib/python3.9/site-packages (from audalign) (1.3.0)\n",
      "Requirement already satisfied: networkx==2.8 in /home/nikita/.envs/aligner/lib/python3.9/site-packages (from audalign) (2.8)\n",
      "Requirement already satisfied: python-dateutil==2.8.2 in /home/nikita/.envs/aligner/lib/python3.9/site-packages (from audalign) (2.8.2)\n",
      "Requirement already satisfied: librosa==0.9.1 in /home/nikita/.envs/aligner/lib/python3.9/site-packages (from audalign) (0.9.1)\n",
      "Requirement already satisfied: tifffile==2022.4.26 in /home/nikita/.envs/aligner/lib/python3.9/site-packages (from audalign) (2022.4.26)\n",
      "Requirement already satisfied: pytest==7.1.2 in /home/nikita/.envs/aligner/lib/python3.9/site-packages (from audalign) (7.1.2)\n",
      "Requirement already satisfied: kiwisolver==1.4.2 in /home/nikita/.envs/aligner/lib/python3.9/site-packages (from audalign) (1.4.2)\n",
      "Requirement already satisfied: joblib==1.1.0 in /home/nikita/.envs/aligner/lib/python3.9/site-packages (from audalign) (1.1.0)\n",
      "Requirement already satisfied: threadpoolctl==3.1.0 in /home/nikita/.envs/aligner/lib/python3.9/site-packages (from audalign) (3.1.0)\n",
      "Requirement already satisfied: llvmlite==0.38.0 in /home/nikita/.envs/aligner/lib/python3.9/site-packages (from audalign) (0.38.0)\n",
      "Requirement already satisfied: scikit-learn==1.0.2 in /home/nikita/.envs/aligner/lib/python3.9/site-packages (from audalign) (1.0.2)\n",
      "Requirement already satisfied: six==1.16.0 in /home/nikita/.envs/aligner/lib/python3.9/site-packages (from audalign) (1.16.0)\n",
      "Requirement already satisfied: numpy==1.21.0 in /home/nikita/.envs/aligner/lib/python3.9/site-packages (from audalign) (1.21.0)\n",
      "Requirement already satisfied: tqdm==4.64.0 in /home/nikita/.envs/aligner/lib/python3.9/site-packages (from audalign) (4.64.0)\n",
      "Requirement already satisfied: decorator==5.1.1 in /home/nikita/.envs/aligner/lib/python3.9/site-packages (from audalign) (5.1.1)\n",
      "Requirement already satisfied: numba==0.55.1 in /home/nikita/.envs/aligner/lib/python3.9/site-packages (from audalign) (0.55.1)\n",
      "Requirement already satisfied: pydub==0.25.1 in /home/nikita/.envs/aligner/lib/python3.9/site-packages (from audalign) (0.25.1)\n",
      "Requirement already satisfied: scikit-image==0.19.2 in /home/nikita/.envs/aligner/lib/python3.9/site-packages (from audalign) (0.19.2)\n",
      "Requirement already satisfied: pycparser==2.21 in /home/nikita/.envs/aligner/lib/python3.9/site-packages (from audalign) (2.21)\n",
      "Requirement already satisfied: tomli==2.0.1 in /home/nikita/.envs/aligner/lib/python3.9/site-packages (from audalign) (2.0.1)\n",
      "Requirement already satisfied: imageio==2.18.0 in /home/nikita/.envs/aligner/lib/python3.9/site-packages (from audalign) (2.18.0)\n",
      "Requirement already satisfied: pytest-xdist==2.5.0 in /home/nikita/.envs/aligner/lib/python3.9/site-packages (from audalign) (2.5.0)\n",
      "Requirement already satisfied: attrs==21.4.0 in /home/nikita/.envs/aligner/lib/python3.9/site-packages (from audalign) (21.4.0)\n",
      "Requirement already satisfied: resampy==0.2.2 in /home/nikita/.envs/aligner/lib/python3.9/site-packages (from audalign) (0.2.2)\n",
      "Requirement already satisfied: charset-normalizer==2.0.12 in /home/nikita/.envs/aligner/lib/python3.9/site-packages (from audalign) (2.0.12)\n",
      "Requirement already satisfied: pooch==1.6.0 in /home/nikita/.envs/aligner/lib/python3.9/site-packages (from audalign) (1.6.0)\n",
      "Requirement already satisfied: pluggy==1.0.0 in /home/nikita/.envs/aligner/lib/python3.9/site-packages (from audalign) (1.0.0)\n",
      "Requirement already satisfied: urllib3==1.26.9 in /home/nikita/.envs/aligner/lib/python3.9/site-packages (from audalign) (1.26.9)\n",
      "Requirement already satisfied: audioread==2.1.9 in /home/nikita/.envs/aligner/lib/python3.9/site-packages (from audalign) (2.1.9)\n",
      "Requirement already satisfied: appdirs==1.4.4 in /home/nikita/.envs/aligner/lib/python3.9/site-packages (from audalign) (1.4.4)\n",
      "Requirement already satisfied: requests==2.27.1 in /home/nikita/.envs/aligner/lib/python3.9/site-packages (from audalign) (2.27.1)\n",
      "Requirement already satisfied: matplotlib==3.5.1 in /home/nikita/.envs/aligner/lib/python3.9/site-packages (from audalign) (3.5.1)\n",
      "Requirement already satisfied: certifi==2021.10.8 in /home/nikita/.envs/aligner/lib/python3.9/site-packages (from audalign) (2021.10.8)\n",
      "Requirement already satisfied: execnet==1.9.0 in /home/nikita/.envs/aligner/lib/python3.9/site-packages (from audalign) (1.9.0)\n",
      "Requirement already satisfied: packaging==21.3 in /home/nikita/.envs/aligner/lib/python3.9/site-packages (from audalign) (21.3)\n",
      "Requirement already satisfied: idna==3.3 in /home/nikita/.envs/aligner/lib/python3.9/site-packages (from audalign) (3.3)\n",
      "Requirement already satisfied: scipy==1.8.0 in /home/nikita/.envs/aligner/lib/python3.9/site-packages (from audalign) (1.8.0)\n",
      "Requirement already satisfied: iniconfig==1.1.1 in /home/nikita/.envs/aligner/lib/python3.9/site-packages (from audalign) (1.1.1)\n",
      "Requirement already satisfied: fonttools==4.33.3 in /home/nikita/.envs/aligner/lib/python3.9/site-packages (from audalign) (4.33.3)\n",
      "Requirement already satisfied: pyparsing==3.0.8 in /home/nikita/.envs/aligner/lib/python3.9/site-packages (from audalign) (3.0.8)\n",
      "Requirement already satisfied: pytest-forked==1.4.0 in /home/nikita/.envs/aligner/lib/python3.9/site-packages (from audalign) (1.4.0)\n",
      "Requirement already satisfied: Pillow==9.1.1 in /home/nikita/.envs/aligner/lib/python3.9/site-packages (from audalign) (9.1.1)\n",
      "Requirement already satisfied: setuptools in /home/nikita/.envs/aligner/lib/python3.9/site-packages (from numba==0.55.1->audalign) (63.4.1)\n",
      "\n",
      "\u001b[1m[\u001b[0m\u001b[34;49mnotice\u001b[0m\u001b[1;39;49m]\u001b[0m\u001b[39;49m A new release of pip available: \u001b[0m\u001b[31;49m22.2.2\u001b[0m\u001b[39;49m -> \u001b[0m\u001b[32;49m22.3.1\u001b[0m\n",
      "\u001b[1m[\u001b[0m\u001b[34;49mnotice\u001b[0m\u001b[1;39;49m]\u001b[0m\u001b[39;49m To update, run: \u001b[0m\u001b[32;49mpip install --upgrade pip\u001b[0m\n",
      "Requirement already satisfied: tssearch in /home/nikita/.envs/aligner/lib/python3.9/site-packages (0.1.3)\n",
      "Requirement already satisfied: numpy in /home/nikita/.envs/aligner/lib/python3.9/site-packages (from tssearch) (1.21.0)\n",
      "Requirement already satisfied: matplotlib in /home/nikita/.envs/aligner/lib/python3.9/site-packages (from tssearch) (3.5.1)\n",
      "Requirement already satisfied: pandas in /home/nikita/.envs/aligner/lib/python3.9/site-packages (from tssearch) (1.5.2)\n",
      "Requirement already satisfied: scipy in /home/nikita/.envs/aligner/lib/python3.9/site-packages (from tssearch) (1.8.0)\n",
      "Requirement already satisfied: pyparsing>=2.2.1 in /home/nikita/.envs/aligner/lib/python3.9/site-packages (from matplotlib->tssearch) (3.0.8)\n",
      "Requirement already satisfied: fonttools>=4.22.0 in /home/nikita/.envs/aligner/lib/python3.9/site-packages (from matplotlib->tssearch) (4.33.3)\n",
      "Requirement already satisfied: pillow>=6.2.0 in /home/nikita/.envs/aligner/lib/python3.9/site-packages (from matplotlib->tssearch) (9.1.1)\n",
      "Requirement already satisfied: python-dateutil>=2.7 in /home/nikita/.envs/aligner/lib/python3.9/site-packages (from matplotlib->tssearch) (2.8.2)\n",
      "Requirement already satisfied: packaging>=20.0 in /home/nikita/.envs/aligner/lib/python3.9/site-packages (from matplotlib->tssearch) (21.3)\n",
      "Requirement already satisfied: cycler>=0.10 in /home/nikita/.envs/aligner/lib/python3.9/site-packages (from matplotlib->tssearch) (0.11.0)\n",
      "Requirement already satisfied: kiwisolver>=1.0.1 in /home/nikita/.envs/aligner/lib/python3.9/site-packages (from matplotlib->tssearch) (1.4.2)\n",
      "Requirement already satisfied: pytz>=2020.1 in /home/nikita/.envs/aligner/lib/python3.9/site-packages (from pandas->tssearch) (2022.6)\n",
      "Requirement already satisfied: six>=1.5 in /home/nikita/.envs/aligner/lib/python3.9/site-packages (from python-dateutil>=2.7->matplotlib->tssearch) (1.16.0)\n",
      "\n",
      "\u001b[1m[\u001b[0m\u001b[34;49mnotice\u001b[0m\u001b[1;39;49m]\u001b[0m\u001b[39;49m A new release of pip available: \u001b[0m\u001b[31;49m22.2.2\u001b[0m\u001b[39;49m -> \u001b[0m\u001b[32;49m22.3.1\u001b[0m\n",
      "\u001b[1m[\u001b[0m\u001b[34;49mnotice\u001b[0m\u001b[1;39;49m]\u001b[0m\u001b[39;49m To update, run: \u001b[0m\u001b[32;49mpip install --upgrade pip\u001b[0m\n",
      "Collecting seaborn\n",
      "  Using cached seaborn-0.12.1-py3-none-any.whl (288 kB)\n",
      "Requirement already satisfied: pandas>=0.25 in /home/nikita/.envs/aligner/lib/python3.9/site-packages (from seaborn) (1.5.2)\n",
      "Requirement already satisfied: numpy>=1.17 in /home/nikita/.envs/aligner/lib/python3.9/site-packages (from seaborn) (1.21.0)\n",
      "Requirement already satisfied: matplotlib!=3.6.1,>=3.1 in /home/nikita/.envs/aligner/lib/python3.9/site-packages (from seaborn) (3.5.1)\n",
      "Requirement already satisfied: fonttools>=4.22.0 in /home/nikita/.envs/aligner/lib/python3.9/site-packages (from matplotlib!=3.6.1,>=3.1->seaborn) (4.33.3)\n",
      "Requirement already satisfied: pyparsing>=2.2.1 in /home/nikita/.envs/aligner/lib/python3.9/site-packages (from matplotlib!=3.6.1,>=3.1->seaborn) (3.0.8)\n",
      "Requirement already satisfied: packaging>=20.0 in /home/nikita/.envs/aligner/lib/python3.9/site-packages (from matplotlib!=3.6.1,>=3.1->seaborn) (21.3)\n",
      "Requirement already satisfied: kiwisolver>=1.0.1 in /home/nikita/.envs/aligner/lib/python3.9/site-packages (from matplotlib!=3.6.1,>=3.1->seaborn) (1.4.2)\n",
      "Requirement already satisfied: pillow>=6.2.0 in /home/nikita/.envs/aligner/lib/python3.9/site-packages (from matplotlib!=3.6.1,>=3.1->seaborn) (9.1.1)\n",
      "Requirement already satisfied: python-dateutil>=2.7 in /home/nikita/.envs/aligner/lib/python3.9/site-packages (from matplotlib!=3.6.1,>=3.1->seaborn) (2.8.2)\n",
      "Requirement already satisfied: cycler>=0.10 in /home/nikita/.envs/aligner/lib/python3.9/site-packages (from matplotlib!=3.6.1,>=3.1->seaborn) (0.11.0)\n",
      "Requirement already satisfied: pytz>=2020.1 in /home/nikita/.envs/aligner/lib/python3.9/site-packages (from pandas>=0.25->seaborn) (2022.6)\n",
      "Requirement already satisfied: six>=1.5 in /home/nikita/.envs/aligner/lib/python3.9/site-packages (from python-dateutil>=2.7->matplotlib!=3.6.1,>=3.1->seaborn) (1.16.0)\n",
      "Installing collected packages: seaborn\n",
      "Successfully installed seaborn-0.12.1\n",
      "\n",
      "\u001b[1m[\u001b[0m\u001b[34;49mnotice\u001b[0m\u001b[1;39;49m]\u001b[0m\u001b[39;49m A new release of pip available: \u001b[0m\u001b[31;49m22.2.2\u001b[0m\u001b[39;49m -> \u001b[0m\u001b[32;49m22.3.1\u001b[0m\n",
      "\u001b[1m[\u001b[0m\u001b[34;49mnotice\u001b[0m\u001b[1;39;49m]\u001b[0m\u001b[39;49m To update, run: \u001b[0m\u001b[32;49mpip install --upgrade pip\u001b[0m\n"
     ]
    }
   ],
   "source": [
    "!pip install audalign\n",
    "!pip install tssearch\n",
    "!pip install seaborn"
   ]
  },
  {
   "cell_type": "code",
   "execution_count": 18,
   "metadata": {},
   "outputs": [],
   "source": [
    "import tssearch\n",
    "import librosa \n",
    "import pydub\n",
    "import soundfile\n",
    "import matplotlib.pyplot as plt\n",
    "# Load the query, (optional) weight vector and sequence\n",
    "data = tssearch.load_ecg_example()\n",
    "\n",
    "# Selects the Dynamic Time Warping (DTW) as the distance for the segmentation\n",
    "cfg = tssearch.get_distance_dict([\"Dynamic Time Warping\"])\n",
    "\n",
    "# Performs the segmentation\n",
    "out = tssearch.time_series_segmentation(cfg, data['query'], data['sequence'], data['weight'])"
   ]
  },
  {
   "cell_type": "code",
   "execution_count": 19,
   "metadata": {},
   "outputs": [
    {
     "data": {
      "text/plain": [
       "{'Dynamic Time Warping': array([  7,  51, 120, 161, 210, 263, 318, 394, 444, 510, 584, 666, 740,\n",
       "        804, 878])}"
      ]
     },
     "execution_count": 19,
     "metadata": {},
     "output_type": "execute_result"
    }
   ],
   "source": [
    "out"
   ]
  },
  {
   "cell_type": "code",
   "execution_count": 1,
   "metadata": {},
   "outputs": [
    {
     "name": "stderr",
     "output_type": "stream",
     "text": [
      "/home/nikita/.envs/aligner/lib/python3.9/site-packages/tqdm/auto.py:22: TqdmWarning: IProgress not found. Please update jupyter and ipywidgets. See https://ipywidgets.readthedocs.io/en/stable/user_install.html\n",
      "  from .autonotebook import tqdm as notebook_tqdm\n"
     ]
    }
   ],
   "source": [
    "import audalign as ad\n",
    "\n",
    "fingerprint_rec = ad.FingerprintRecognizer()\n",
    "correlation_rec = ad.CorrelationRecognizer()\n",
    "cor_spec_rec = ad.CorrelationSpectrogramRecognizer()\n",
    "visual_rec = ad.VisualRecognizer()\n",
    "\n",
    "fingerprint_rec.config.set_accuracy(3)"
   ]
  },
  {
   "cell_type": "code",
   "execution_count": 15,
   "metadata": {},
   "outputs": [
    {
     "ename": "TypeError",
     "evalue": "recognize() got an unexpected keyword argument 'sample_rate'",
     "output_type": "error",
     "traceback": [
      "\u001b[0;31m---------------------------------------------------------------------------\u001b[0m",
      "\u001b[0;31mTypeError\u001b[0m                                 Traceback (most recent call last)",
      "Cell \u001b[0;32mIn[15], line 1\u001b[0m\n\u001b[0;32m----> 1\u001b[0m cor_spec_rec\u001b[39m.\u001b[39;49mrecognize( \u001b[39m\"\u001b[39;49m\u001b[39m./generated/bleeding.wav\u001b[39;49m\u001b[39m\"\u001b[39;49m, \u001b[39m\"\u001b[39;49m\u001b[39m./test/furcation_18_grade_one.wav\u001b[39;49m\u001b[39m\"\u001b[39;49m, sample_rate\u001b[39m=\u001b[39;49m\u001b[39m16000\u001b[39;49m)\n",
      "\u001b[0;31mTypeError\u001b[0m: recognize() got an unexpected keyword argument 'sample_rate'"
     ]
    }
   ],
   "source": [
    "cor_spec_rec.recognize( \"./generated/bleeding.wav\", \"./test/furcation_18_grade_one.wav\", sample_rate=16000)"
   ]
  },
  {
   "cell_type": "code",
   "execution_count": 30,
   "metadata": {},
   "outputs": [
    {
     "name": "stderr",
     "output_type": "stream",
     "text": [
      "100%|██████████| 4/4 [00:00<00:00, 3858.61it/s]"
     ]
    },
    {
     "name": "stdout",
     "output_type": "stream",
     "text": [
      "Comparing 18.wav against furcation_18_grade_one.wav... Comparing 18.wav against bleeding_13_mesial_lingual.wav... \n",
      "\n",
      "Calculating correlation... Calculating correlation... Comparing 18.wav against jump_gingival_margin.wav... \n",
      "Comparing 18.wav against plaque_light_on_all.wav... Calculating correlation... \n",
      "Calculating correlation... Finding Local Maximums... done\n",
      "Finding Local Maximums... Finding Local Maximums... done\n",
      "done\n",
      "Finding Local Maximums... done\n",
      "Fine Aligning...\n"
     ]
    },
    {
     "name": "stderr",
     "output_type": "stream",
     "text": [
      "\n"
     ]
    },
    {
     "ename": "KeyError",
     "evalue": "'names_and_paths'",
     "output_type": "error",
     "traceback": [
      "\u001b[0;31m---------------------------------------------------------------------------\u001b[0m",
      "\u001b[0;31mKeyError\u001b[0m                                  Traceback (most recent call last)",
      "Cell \u001b[0;32mIn[30], line 1\u001b[0m\n\u001b[0;32m----> 1\u001b[0m ad\u001b[39m.\u001b[39;49mfine_align(ad\u001b[39m.\u001b[39;49mrecognize(\u001b[39m\"\u001b[39;49m\u001b[39m./generated/18.wav\u001b[39;49m\u001b[39m\"\u001b[39;49m, \u001b[39m\"\u001b[39;49m\u001b[39m./test/\u001b[39;49m\u001b[39m\"\u001b[39;49m, recognizer\u001b[39m=\u001b[39;49mcor_spec_rec), recognizer\u001b[39m=\u001b[39;49mcor_spec_rec)\n",
      "File \u001b[0;32m~/.envs/aligner/lib/python3.9/site-packages/audalign/__init__.py:36\u001b[0m, in \u001b[0;36madd_rankings.<locals>.wrapper_decorator\u001b[0;34m(*args, **kwargs)\u001b[0m\n\u001b[1;32m     34\u001b[0m \u001b[39m@wraps\u001b[39m(func)\n\u001b[1;32m     35\u001b[0m \u001b[39mdef\u001b[39;00m \u001b[39mwrapper_decorator\u001b[39m(\u001b[39m*\u001b[39margs, \u001b[39m*\u001b[39m\u001b[39m*\u001b[39mkwargs):\n\u001b[0;32m---> 36\u001b[0m     results \u001b[39m=\u001b[39m func(\u001b[39m*\u001b[39;49margs, \u001b[39m*\u001b[39;49m\u001b[39m*\u001b[39;49mkwargs)\n\u001b[1;32m     37\u001b[0m     \u001b[39mif\u001b[39;00m results \u001b[39mis\u001b[39;00m \u001b[39mnot\u001b[39;00m \u001b[39mNone\u001b[39;00m:\n\u001b[1;32m     38\u001b[0m         \u001b[39mif\u001b[39;00m results\u001b[39m.\u001b[39mget(\u001b[39m\"\u001b[39m\u001b[39mrankings\u001b[39m\u001b[39m\"\u001b[39m) \u001b[39mis\u001b[39;00m \u001b[39mnot\u001b[39;00m \u001b[39mNone\u001b[39;00m:\n",
      "File \u001b[0;32m~/.envs/aligner/lib/python3.9/site-packages/audalign/__init__.py:230\u001b[0m, in \u001b[0;36mfine_align\u001b[0;34m(results, destination_path, write_extension, write_multi_channel, match_index, recognizer)\u001b[0m\n\u001b[1;32m    226\u001b[0m     paths_audio \u001b[39m=\u001b[39m filehandler\u001b[39m.\u001b[39mshift_get_files(\n\u001b[1;32m    227\u001b[0m         recalc_shifts_results, sample_rate\u001b[39m=\u001b[39mrecognizer\u001b[39m.\u001b[39mconfig\u001b[39m.\u001b[39msample_rate\n\u001b[1;32m    228\u001b[0m     )\n\u001b[1;32m    229\u001b[0m \u001b[39melse\u001b[39;00m:\n\u001b[0;32m--> 230\u001b[0m     paths_audio \u001b[39m=\u001b[39m filehandler\u001b[39m.\u001b[39;49mshift_get_files(\n\u001b[1;32m    231\u001b[0m         results, sample_rate\u001b[39m=\u001b[39;49mrecognizer\u001b[39m.\u001b[39;49mconfig\u001b[39m.\u001b[39;49msample_rate\n\u001b[1;32m    232\u001b[0m     )\n\u001b[1;32m    234\u001b[0m max_lags_not_set \u001b[39m=\u001b[39m \u001b[39mFalse\u001b[39;00m\n\u001b[1;32m    235\u001b[0m \u001b[39mif\u001b[39;00m recognizer\u001b[39m.\u001b[39mconfig\u001b[39m.\u001b[39mmax_lags \u001b[39mis\u001b[39;00m \u001b[39mNone\u001b[39;00m:\n",
      "File \u001b[0;32m~/.envs/aligner/lib/python3.9/site-packages/audalign/filehandler.py:528\u001b[0m, in \u001b[0;36mshift_get_files\u001b[0;34m(results, sample_rate)\u001b[0m\n\u001b[1;32m    527\u001b[0m \u001b[39mdef\u001b[39;00m \u001b[39mshift_get_files\u001b[39m(results: \u001b[39mdict\u001b[39m, sample_rate: \u001b[39mint\u001b[39m \u001b[39m=\u001b[39m \u001b[39mNone\u001b[39;00m):\n\u001b[0;32m--> 528\u001b[0m     names_and_paths \u001b[39m=\u001b[39m results\u001b[39m.\u001b[39;49mpop(\u001b[39m\"\u001b[39;49m\u001b[39mnames_and_paths\u001b[39;49m\u001b[39m\"\u001b[39;49m)\n\u001b[1;32m    529\u001b[0m     temp_a \u001b[39m=\u001b[39m results\u001b[39m.\u001b[39mpop(\u001b[39m\"\u001b[39m\u001b[39mmatch_info\u001b[39m\u001b[39m\"\u001b[39m)\n\u001b[1;32m    530\u001b[0m     temp_rankings \u001b[39m=\u001b[39m \u001b[39mNone\u001b[39;00m\n",
      "\u001b[0;31mKeyError\u001b[0m: 'names_and_paths'"
     ]
    }
   ],
   "source": [
    "ad.fine_align(ad.recognize(\"./generated/18.wav\", \"./test/\", recognizer=cor_spec_rec), recognizer=cor_spec_rec)"
   ]
  },
  {
   "cell_type": "code",
   "execution_count": 31,
   "metadata": {},
   "outputs": [
    {
     "ename": "AttributeError",
     "evalue": "module 'audalign' has no attribute 'plot'",
     "output_type": "error",
     "traceback": [
      "\u001b[0;31m---------------------------------------------------------------------------\u001b[0m",
      "\u001b[0;31mAttributeError\u001b[0m                            Traceback (most recent call last)",
      "Cell \u001b[0;32mIn[31], line 1\u001b[0m\n\u001b[0;32m----> 1\u001b[0m ad\u001b[39m.\u001b[39;49mplot(\u001b[39m\"\u001b[39m\u001b[39m./test/bleeding_13_mesial_lingual.wav\u001b[39m\u001b[39m\"\u001b[39m)\n",
      "\u001b[0;31mAttributeError\u001b[0m: module 'audalign' has no attribute 'plot'"
     ]
    }
   ],
   "source": [
    "ad.plot(\"./test/bleeding_13_mesial_lingual.wav\")"
   ]
  },
  {
   "cell_type": "code",
   "execution_count": null,
   "metadata": {},
   "outputs": [],
   "source": []
  }
 ],
 "metadata": {
  "kernelspec": {
   "display_name": "Python 3.10.8 ('aligner')",
   "language": "python",
   "name": "python3"
  },
  "language_info": {
   "codemirror_mode": {
    "name": "ipython",
    "version": 3
   },
   "file_extension": ".py",
   "mimetype": "text/x-python",
   "name": "python",
   "nbconvert_exporter": "python",
   "pygments_lexer": "ipython3",
   "version": "3.9.13"
  },
  "orig_nbformat": 4,
  "vscode": {
   "interpreter": {
    "hash": "ae88e6d1cc117689e1961a03764d7f70af835c07583fa193217599045b0ed9c9"
   }
  }
 },
 "nbformat": 4,
 "nbformat_minor": 2
}
