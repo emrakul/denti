{
 "cells": [
  {
   "cell_type": "code",
   "execution_count": 1,
   "metadata": {},
   "outputs": [],
   "source": [
    "#!pip install --upgrade numpy\n",
    "#!pip install Cython\n",
    "#!pip install nemo_toolkit\\['all'\\]"
   ]
  },
  {
   "cell_type": "code",
   "execution_count": 18,
   "metadata": {},
   "outputs": [],
   "source": [
    "import nemo.collections.tts as nemo_tts\n",
    "import pydub \n",
    "import librosa\n",
    "import soundfile\n",
    "import torch"
   ]
  },
  {
   "cell_type": "code",
   "execution_count": 14,
   "metadata": {},
   "outputs": [
    {
     "name": "stdout",
     "output_type": "stream",
     "text": [
      "[NeMo I 2022-12-12 12:12:28 cloud:56] Found existing object /home/nikita/.cache/torch/NeMo/NeMo_1.13.0/tts_en_fastpitch_multispeaker/b96451578e2b9a39d62cfc642bc5ffcf/tts_en_fastpitch_multispeaker.nemo.\n",
      "[NeMo I 2022-12-12 12:12:28 cloud:62] Re-using file from: /home/nikita/.cache/torch/NeMo/NeMo_1.13.0/tts_en_fastpitch_multispeaker/b96451578e2b9a39d62cfc642bc5ffcf/tts_en_fastpitch_multispeaker.nemo\n",
      "[NeMo I 2022-12-12 12:12:28 common:911] Instantiating model from pre-trained checkpoint\n",
      "[NeMo I 2022-12-12 12:12:30 tokenize_and_classify:87] Creating ClassifyFst grammars.\n"
     ]
    },
    {
     "name": "stderr",
     "output_type": "stream",
     "text": [
      "[NeMo W 2022-12-12 12:12:57 modules:94] apply_to_oov_word=None, This means that some of words will remain unchanged if they are not handled by any of the rules in self.parse_one_word(). This may be intended if phonemes and chars are both valid inputs, otherwise, you may see unexpected deletions in your input.\n",
      "[NeMo W 2022-12-12 12:12:57 modelPT:142] If you intend to do training or fine-tuning, please call the ModelPT.setup_training_data() method and provide a valid configuration file to setup the train data loader.\n",
      "    Train config : \n",
      "    dataset:\n",
      "      _target_: nemo.collections.tts.torch.data.TTSDataset\n",
      "      manifest_filepath: /ws/HiFiTTS/manifest_train_ngc.json\n",
      "      sample_rate: 44100\n",
      "      sup_data_path: /raid/sup_data_path_44100_new\n",
      "      sup_data_types:\n",
      "      - align_prior_matrix\n",
      "      - pitch\n",
      "      - speaker_id\n",
      "      n_fft: 2048\n",
      "      win_length: 2048\n",
      "      hop_length: 512\n",
      "      window: hann\n",
      "      n_mels: 80\n",
      "      lowfreq: 0\n",
      "      highfreq: null\n",
      "      max_duration: 20\n",
      "      min_duration: 0.1\n",
      "      ignore_file: null\n",
      "      trim: false\n",
      "      pitch_fmin: 73.4161911010742\n",
      "      pitch_fmax: 2093.004638671875\n",
      "      pitch_norm: true\n",
      "      pitch_mean: 183.15986328125\n",
      "      pitch_std: 81.13707580566407\n",
      "    dataloader_params:\n",
      "      drop_last: false\n",
      "      shuffle: true\n",
      "      batch_size: 24\n",
      "      num_workers: 1\n",
      "    \n",
      "[NeMo W 2022-12-12 12:12:57 modelPT:149] If you intend to do validation, please call the ModelPT.setup_validation_data() or ModelPT.setup_multiple_validation_data() method and provide a valid configuration file to setup the validation data loader(s). \n",
      "    Validation config : \n",
      "    dataset:\n",
      "      _target_: nemo.collections.tts.torch.data.TTSDataset\n",
      "      manifest_filepath: /ws/HiFiTTS/manifest_dev_ngc.json\n",
      "      sample_rate: 44100\n",
      "      sup_data_path: /raid/sup_data_path_44100_new\n",
      "      sup_data_types:\n",
      "      - align_prior_matrix\n",
      "      - pitch\n",
      "      - speaker_id\n",
      "      n_fft: 2048\n",
      "      win_length: 2048\n",
      "      hop_length: 512\n",
      "      window: hann\n",
      "      n_mels: 80\n",
      "      lowfreq: 0\n",
      "      highfreq: null\n",
      "      max_duration: 20\n",
      "      min_duration: 0.2\n",
      "      ignore_file: null\n",
      "      trim: false\n",
      "      pitch_fmin: 73.4161911010742\n",
      "      pitch_fmax: 2093.004638671875\n",
      "      pitch_norm: true\n",
      "      pitch_mean: 183.15986328125\n",
      "      pitch_std: 81.13707580566407\n",
      "    dataloader_params:\n",
      "      drop_last: false\n",
      "      shuffle: false\n",
      "      batch_size: 24\n",
      "      num_workers: 1\n",
      "    \n"
     ]
    },
    {
     "name": "stdout",
     "output_type": "stream",
     "text": [
      "[NeMo I 2022-12-12 12:12:57 features:225] PADDING: 1\n",
      "[NeMo I 2022-12-12 12:12:58 save_restore_connector:243] Model FastPitchModel was successfully restored from /home/nikita/.cache/torch/NeMo/NeMo_1.13.0/tts_en_fastpitch_multispeaker/b96451578e2b9a39d62cfc642bc5ffcf/tts_en_fastpitch_multispeaker.nemo.\n",
      "[NeMo I 2022-12-12 12:12:58 cloud:66] Downloading from: https://api.ngc.nvidia.com/v2/models/nvidia/nemo/tts_en_libritts_univnet/versions/1.7.0/files/tts_en_libritts_multispeaker_univnet.nemo to /home/nikita/.cache/torch/NeMo/NeMo_1.13.0/tts_en_libritts_multispeaker_univnet/74805fd10315e0a1a4bfe0f7b55ee1b5/tts_en_libritts_multispeaker_univnet.nemo\n",
      "[NeMo I 2022-12-12 12:13:36 common:911] Instantiating model from pre-trained checkpoint\n"
     ]
    },
    {
     "name": "stderr",
     "output_type": "stream",
     "text": [
      "[NeMo W 2022-12-12 12:13:36 modelPT:142] If you intend to do training or fine-tuning, please call the ModelPT.setup_training_data() method and provide a valid configuration file to setup the train data loader.\n",
      "    Train config : \n",
      "    dataset:\n",
      "      _target_: nemo.collections.tts.data.datalayers.AudioDataset\n",
      "      manifest_filepath: /home/tkdrlf9202/Datasets/LibriTTS-22k/train-all.json\n",
      "      max_duration: null\n",
      "      min_duration: 0.75\n",
      "      n_segments: 16384\n",
      "      trim: false\n",
      "    dataloader_params:\n",
      "      drop_last: false\n",
      "      shuffle: true\n",
      "      batch_size: 8\n",
      "      num_workers: 4\n",
      "    \n",
      "[NeMo W 2022-12-12 12:13:36 modelPT:149] If you intend to do validation, please call the ModelPT.setup_validation_data() or ModelPT.setup_multiple_validation_data() method and provide a valid configuration file to setup the validation data loader(s). \n",
      "    Validation config : \n",
      "    dataset:\n",
      "      _target_: nemo.collections.tts.data.datalayers.AudioDataset\n",
      "      manifest_filepath: /home/tkdrlf9202/Datasets/LibriTTS-22k/dev-clean-mini.json\n",
      "      max_duration: null\n",
      "      min_duration: null\n",
      "      n_segments: -1\n",
      "      trim: false\n",
      "    dataloader_params:\n",
      "      drop_last: false\n",
      "      shuffle: false\n",
      "      batch_size: 16\n",
      "      num_workers: 1\n",
      "    \n"
     ]
    },
    {
     "name": "stdout",
     "output_type": "stream",
     "text": [
      "[NeMo I 2022-12-12 12:13:36 features:225] PADDING: 0\n",
      "[NeMo I 2022-12-12 12:13:36 features:233] STFT using exact pad\n",
      "[NeMo I 2022-12-12 12:13:36 features:225] PADDING: 0\n",
      "[NeMo I 2022-12-12 12:13:36 features:233] STFT using exact pad\n",
      "[NeMo I 2022-12-12 12:13:37 save_restore_connector:243] Model UnivNetModel was successfully restored from /home/nikita/.cache/torch/NeMo/NeMo_1.13.0/tts_en_libritts_multispeaker_univnet/74805fd10315e0a1a4bfe0f7b55ee1b5/tts_en_libritts_multispeaker_univnet.nemo.\n"
     ]
    }
   ],
   "source": [
    "#tts = nemo_tts.models.FastPitchModel.from_pretrained(\"tts_en_fastpitch_multispeaker\").cpu().eval()\n",
    "tts = nemo_tts.models.FastPitchModel.from_pretrained(\"tts_en_fastpitch_multispeaker\").cpu().eval()\n",
    "#vocoder = nemo_tts.models.WaveGlowModel.from_pretrained(\"tts_waveglow_88m\").cpu().eval()\n",
    "vocoder = nemo_tts.models.UnivNetModel.from_pretrained(\"tts_en_libritts_univnet\").cpu().eval()"
   ]
  },
  {
   "cell_type": "code",
   "execution_count": 21,
   "metadata": {},
   "outputs": [],
   "source": [
    "def say(word = \"gingival\"):\n",
    "    tts_parsed_input = tts.parse(word)\n",
    "    with torch.no_grad():\n",
    "        specs = tts.generate_spectrogram(tokens=tts_parsed_input)\n",
    "        audio = vocoder.convert_spectrogram_to_audio(spec=specs)\n",
    "    return audio"
   ]
  },
  {
   "cell_type": "code",
   "execution_count": 39,
   "metadata": {},
   "outputs": [],
   "source": [
    "text = \"18\"\n",
    "audio = say(text)"
   ]
  },
  {
   "cell_type": "code",
   "execution_count": 40,
   "metadata": {},
   "outputs": [],
   "source": [
    "soundfile.write(f\"generated/{text}.wav\", audio.cpu().numpy()[0], samplerate=22050)"
   ]
  },
  {
   "cell_type": "code",
   "execution_count": 41,
   "metadata": {},
   "outputs": [
    {
     "data": {
      "text/html": [
       "\n",
       "                    <audio controls>\n",
       "                        <source src=\"data:audio/mpeg;base64,SUQzBAAAAAAAI1RTU0UAAAAPAAADTGF2ZjU5LjI3LjEwMAAAAAAAAAAAAAAA//NwwAAAAAAAAAAAAEluZm8AAAAPAAAAGwAAC7sAGBgYISEhISoqKiozMzM8PDw8RERERE1NTVZWVlZfX19faGhoaHFxcXp6enqDg4ODjIyMlZWVlZ6enp6mpqavr6+vuLi4uMHBwcHKysrT09PT3Nzc3OXl5e7u7u739/f3////AAAAAExhdmM1OS4zNwAAAAAAAAAAAAAAACQCgAAAAAAAAAu7Wh7nbQAAAAAAAAAAAAAAAAD/80DEABPxgoRFQUAAGgDMAJjGzfGMbwAB73+73//8uiJXy/wiIn/BAcA0AUBYDQUFxc99BQOAaAAwFwXi76Iju7i4uD6wf4IcRnyn/wff8H+IHFAxwf/+sCRACDnGcKfJA8H4UoHQ1f/zQsQLFqGm0AGPQAAvRkRBtLsPLa5dmGOIp2ld911/XUzztXu8PmDfhRDDgUW7sR6JDQTQA4GRYgPA4qQbNpV8VUqPsZNUhGSEW7N9QoSsxUswls0H/W0pfzjppe8YnZrSXJJQrp3uWP/zQMQMF1CnBl/PGAIExwK4JjlnRqhizZgRq/N3H+jwMf8FiUdhIEygEbeEkWHPRBpqFhpYjBQFweHFqwwoiZeccqLkFv0Ob/cqWAMo9ggB8LLU3tuQqRU0ygOC1wfVqQTtttRbjkFq//NCxAkWEW76XnpGOmaDsRzUDAXEuVBcMs0khruYa7C6i6seuy1G1hel51J4Of8vLaUqZ5aq3GDA0ugg0HzrmnkoFtVpKJtAkGLvtq4jtToCoFK7k2jkoQIUaftVZBERHieAXJIP7JAu//NAxAwXAW7OfnjKsG8iQgoYzmHEj6zqFGWUSJ5dyh60rmCFM0YCDibLbWi/+iIg1iqxagUScokZ8SZ5VyxQ0h5o03DQNAZh6Etn3stwotJklNoZep7dApNlqb+TQClZmhtFJJIPZ4X/80LECxWhXtp+SYaSTXIiaTIhJQjJ2zhHHR8Eua+NrcCSNgkKo86A5dljXKWMZZ1DynFLs2Zp1UFAqC24tDWJlDzpEOg0xlDywNZa2e+o8tZJbzvVlv/5NQH5JLEm/89IoKmQRHaSikP/80DEEBMxKp28SYaGtuJXhh42FWrke6neeUVKll9Hq34n5fy5mYMdWuOuEQlGDgk8XpoHo0QWnXre+VDav4q2sJ9h2V89uqf/rQgZHKN45tsBccAEei2TGkqQiRTWsj6/rb3syf+mVf/zQsQeFIEiil9JEACaZXux0om+yXc0GFQVaQsYbU1VaRKo+w4UWBkhAEyw9gylLlvuFAEPHMFaJ1CkHZjtVeiNW+/bQbbgkjUikQCAFu+JUyPit4QjwK6ZSqtil7phTn9H4U+q+d8wO//zQMQoHfrmsb+MQANz//eWMgceKg3Efl8+KSNum2QUDgTA3Te7hfHO4/SEcXPCluHANAaBHCJzwkXoiScyQ6Dxhl03IuH4LAaGC95Yv//////////9igoBMh/GOrLZLbbbbaLHWqhA//NCxAsXCm8KX4Y4AhEMhoaepgAcX2QxC6ogfSaZccNvOu6Gv6+39V9zDHHz7rOem/mGMYc7GMOT360/7KEg+XJ5Y9hwabXpVPp9vnnyb1WSg54cNiy2O/wwNf/etVWaqImYmp7aIOA2//NAxAoSwIrrHcMYAI4REBhAbGEh0nImTmbVcpjPCRpQogDsQkOgyWtIh0FgMVcsvHhQRHg4m6hUGcjW7I5HFjd1m+uNLcnV/9fKyqVvZpZlmHd+gAmgoGsBGI8cRiAVMMSGVjgCgCX/80LEGhQwWtMcHlAI0rkw8nDRcVOnFjHHWhBA9plrAU6zB8KtYOKllHXosP3V1UajZ1r9rhCkS/Ui38y4Baxa96FNpXc3vv9kUu8/9vAYFsd4C70gLRgQsuLCW6EZPcFV1TskOR0jCdT/80DEJROQ3upc0kZ2uuRSzEDJXil2z6Hz7PXWi0ywGRwwAtCNVH32OuUqKC6qvd9zNRt3/0pVQIX111IBmhhLJI0rbtwvtfVmhDFEZ5yE2jOoCQxna6KWfO6l4IpRZQXchs9Mj/99Tf/zQsQxE5FK1lwLxB7OmigIKgg+JW8Pe+blXHH3uW4h/9fAEHV2/rWqulVSIUl3aIyKdcAsFxXXPXkKTXqvJU+ytVo0I2JlMuaTWBy/uaqw4LlEde8t11n5+isKMOLANR3kH8zFohPhMv/zQMQ+E3i+8x4L0BrHkgolTmt/Z8qSa3qotao2QBn21+BT7zVAeSglgGp0+Kw5qMYi9s6XBr4jcuTrNW9L8F0ELcO/O3b/9fdnY6OjIzyiimhHLGy9B5YitOgB91Nbf/9MBAdfrq5H//NCxEsS6XLiXFPEckVkF62b0BKOAOWRF5vz3Ce34Yi8VSOacFqtTBAHLPhiXL6e+rR57kZjckAXXvEHryUrW552DKeHf9ECuU+e5b+/hqCQnDR3ii2VREwAB6ERkSUtuAyugxV3C6SX//NAxFsSwLreXgvSGkWqX5KoZPUHaYFTRUGbPHpbIx87OK+1un+/TqmiO2z+yHEIO2wqIhFFQqAYpxjRw4Ot9n9NVlqwyGl3ehacWsWFN0FCVQIsN7BKZBsK35cCzDyqgkgyG8XzLAT/80LEaxPhRrZ+DhQQgNvTBOrgk1vTiuJ976/d313oNzsRezwZN8gTNnnaUYgkFQsHFPFmnN3fRtKNZw1/9lF7KQVTIApLKB/2FVzrShcsgg5AhomevO0xX4zJvcwKE8EhYC/kDV9dKsz/80DEdxPBQogi2syYS3BkRlTr1ZKF4mxwNniweWl4lQhNCDs9PHm0uc4d6aLO3cRT2af1UoUqQCjtkkt1oHDBWDJ2yIPx29Gt2tM2Ud7dKh1VRY2Zz3n1NbyKCi+6G7FgMPq3LLZs6f/zQsSDFEkGnR7KRJAeQpiIc3yM/KZr+VWqv/LeUKvoBV1RX/qO9/2fXSlG7LbJLdQBmIEMCSTXci+jkMaiRLi42pFgV0awUlbkSDHWZtY1z9ufHf3KtuqfCS9BVQVQ2HUrJHhQLBYsWP/zQMSNE2nqwb5ZhpLYacDTypjvngqVF2kkEQK/+r5FAZkb6M6CjWpQE0Jxz6gaLSwlImGaESFlmBwUZQpieafCKdvq8fp0QAkl1MxKnnNSJeryfNtVISgwHFVBESvaRWAbE0IR//////NCxJoUcPaqXoPMKv+3WhpxBoScof6Fn8O8AsHi4pdlSzHRlaURpoAqyClNtfdf59yGeih4SWespFSEN9ShaQ7UhSfmHs8y3EQmOSBgykCiAHl9Fxcy/X//Yf/+vRWibU6ztTm5DqYp//NAxKQSqV5QEMGGhAwVDNDnVUL2QtSIor1Ds3vW+v+3b7mGvsTeJI22kXUSGZ6ms8SOaA4UGuFeGPAXzl2yKu4MX4syzipwiIRItR1EGs7P2UNu//nNVtIMCoW1z4cHZaHkIJcFBDP/80LEtBOZWkgIeYa07/i902jOF4HZGWAp0np06RLAkSgPAFYgDOW7Evo16nE8zGJYuHNV6Y8y8mphdKtPUEke0TuwY4wdhYBFVi+2SqEBn4QFVNaUAjA4PpMsdYmRkDRuA2Y6VqbWTSf/80DEwRV53lw8eYacO5MAIkW2444CJUsJSow8vOkeHejpo+yecjcWsUPDR1BawGh4aEXKzr5b/9T+jp///9ZMQU1FMy4xMDCqqqqqqqqqqqqqqqqqqqqqqqqqqqqqqqqqqqqqqqqqqv/zQsTGGzn2SAphhtyqqqqqqqqqqqqqqqqqqqqqqqqqqqqqqqqqqqqqqqqqqqqqqqqqqqqqqqqqqqqqqqqqqqqqqqqqqqqqqqqqqqqqqqqqqqqqqqqqqqqqqqqqqqqqqqqqqqqqqqqqqv/zQMS1C/gCWZ4IRgSqqqqqqqqqqqqqqqqqqqqqqqqqqqqqqqqqqqqqqqqqqqqqqqqqqqqqqqqqqqqqqqqqqqqqqqqqqqqqqqqqqqqqqqqqqqqqqqqqqqqqqqqqqqqqqqqqqqqqqqqq\" type=\"audio/mpeg\"/>\n",
       "                        Your browser does not support the audio element.\n",
       "                    </audio>\n",
       "                  "
      ],
      "text/plain": [
       "<pydub.audio_segment.AudioSegment at 0x7f55c89d3ac0>"
      ]
     },
     "execution_count": 41,
     "metadata": {},
     "output_type": "execute_result"
    }
   ],
   "source": [
    "pydub.AudioSegment.from_file(f\"generated/{text}.wav\")"
   ]
  },
  {
   "cell_type": "code",
   "execution_count": 34,
   "metadata": {},
   "outputs": [
    {
     "data": {
      "text/html": [
       "\n",
       "                    <audio controls>\n",
       "                        <source src=\"data:audio/mpeg;base64,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\" type=\"audio/mpeg\"/>\n",
       "                        Your browser does not support the audio element.\n",
       "                    </audio>\n",
       "                  "
      ],
      "text/plain": [
       "<pydub.audio_segment.AudioSegment at 0x7f55c89d38e0>"
      ]
     },
     "execution_count": 34,
     "metadata": {},
     "output_type": "execute_result"
    }
   ],
   "source": [
    "pydub.AudioSegment.from_file(f\"test/fe8086cd8ac643cd99aaeffce48dfa8b_245570ms-248350ms.wav\")\n"
   ]
  },
  {
   "cell_type": "code",
   "execution_count": null,
   "metadata": {},
   "outputs": [],
   "source": []
  }
 ],
 "metadata": {
  "kernelspec": {
   "display_name": "Python 3.10.8 ('venv')",
   "language": "python",
   "name": "python3"
  },
  "language_info": {
   "codemirror_mode": {
    "name": "ipython",
    "version": 3
   },
   "file_extension": ".py",
   "mimetype": "text/x-python",
   "name": "python",
   "nbconvert_exporter": "python",
   "pygments_lexer": "ipython3",
   "version": "3.10.8"
  },
  "orig_nbformat": 4,
  "vscode": {
   "interpreter": {
    "hash": "7fd949f43caac0f2068892c27c1c66340460cb38bf9d2b065a617b577a92922b"
   }
  }
 },
 "nbformat": 4,
 "nbformat_minor": 2
}
